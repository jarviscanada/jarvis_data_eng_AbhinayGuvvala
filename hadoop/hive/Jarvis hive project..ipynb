﻿{
  "metadata": {
    "name": "Jarvis hive project",
    "kernelspec": {
      "language": "scala",
      "name": "spark2-scala"
    },
    "language_info": {
      "codemirror_mode": "text/x-scala",
      "file_extension": ".scala",
      "mimetype": "text/x-scala",
      "name": "scala",
      "pygments_lexer": "scala"
    }
  },
  "nbformat": 4,
  "nbformat_minor": 2,
  "cells": [
    {
      "cell_type": "markdown",
      "metadata": {},
      "source": "# PART 1\n1. create \u0027wdi_gs\u0027 table to parse data from \u0027wdi2016\u0027\n2. create \u0027wdi_csv_text\u0027 external table and insert data from \u0027wdi_gs\u0027 into it\n3. notice the cache in worker and master nodes\n4. compare the bash approach and hive approach to scan whole table"
    },
    {
      "cell_type": "markdown",
      "metadata": {},
      "source": "- create  a table called \u0027wdi_gs\u0027\n- data is stored in \u0027gs://jarvis_data_eng_abhinay/datasets/wdi_2016\u0027"
    },
    {
      "cell_type": "code",
      "execution_count": 2,
      "metadata": {
        "autoscroll": "auto"
      },
      "outputs": [],
      "source": "%hive\nDROP TABLE IF EXISTS wdi_gs"
    },
    {
      "cell_type": "code",
      "execution_count": 3,
      "metadata": {
        "autoscroll": "auto"
      },
      "outputs": [],
      "source": "%hive\nCREATE EXTERNAL TABLE wdi_gs\n(year INTEGER, countryName STRING, countryCode STRING, indicatorName STRING, indicatorCode STRING, indicatorValue FLOAT)\nROW FORMAT DELIMITED FIELDS TERMINATED BY \u0027,\u0027 LINES TERMINATED BY \u0027\\n\u0027\nLOCATION \u0027gs://jarvis_data_eng_abhinay/datasets/wdi_2016\u0027\nTBLPROPERTIES (\"skip.header.line.count\"\u003d\"1\")"
    },
    {
      "cell_type": "markdown",
      "metadata": {},
      "source": "- data information shown below"
    },
    {
      "cell_type": "code",
      "execution_count": 5,
      "metadata": {
        "autoscroll": "auto"
      },
      "outputs": [],
      "source": "%hive\nDESCRIBE FORMATTED wdi_gs"
    },
    {
      "cell_type": "markdown",
      "metadata": {},
      "source": "scan whole table using query `select count(*) from wdi_gs`"
    },
    {
      "cell_type": "code",
      "execution_count": 7,
      "metadata": {
        "autoscroll": "auto"
      },
      "outputs": [],
      "source": "%hive\nselect count(*) from wdi_gs"
    },
    {
      "cell_type": "markdown",
      "metadata": {},
      "source": " \n- drop table if exists\n- create a external table named as `wdi_gs_text`\n- `hdfs` location \u0027hdfs:///user/hive/wdi/wdi_csv_text\u0027\n- `comma` delimited format\n- after creating the table, insert data from `wdi_gs` into `wdi_csv_text`\n- run query to check if all data is inserted sucessfully"
    },
    {
      "cell_type": "code",
      "execution_count": 9,
      "metadata": {
        "autoscroll": "auto"
      },
      "outputs": [],
      "source": "%hive\nDROP TABLE IF EXISTS wdi_csv_text"
    },
    {
      "cell_type": "code",
      "execution_count": 10,
      "metadata": {
        "autoscroll": "auto"
      },
      "outputs": [],
      "source": "%hive\nCREATE EXTERNAL TABLE wdi_csv_text\n(year INTEGER, countryName STRING, countryCode STRING, indicatorName STRING, indicatorCode STRING, indicatorValue FLOAT)\nROW FORMAT DELIMITED FIELDS TERMINATED BY \u0027,\u0027 LINES TERMINATED BY \u0027\\n\u0027\nLOCATION \u0027hdfs:///user/hive/wdi/wdi_csv_text\u0027"
    },
    {
      "cell_type": "code",
      "execution_count": 11,
      "metadata": {
        "autoscroll": "auto"
      },
      "outputs": [],
      "source": "%hive\nINSERT OVERWRITE TABLE wdi_csv_text\nSELECT * FROM wdi_gs"
    },
    {
      "cell_type": "markdown",
      "metadata": {},
      "source": "- we have inserted data into database and now we want to check if files are stored in hdfs\n- to check that we use `hdfs dfs` command\n- after that we execute SELECT count(countryName) FROM wdi_csv_text twice and we find that 2nd query run faster"
    },
    {
      "cell_type": "code",
      "execution_count": 13,
      "metadata": {
        "autoscroll": "auto"
      },
      "outputs": [],
      "source": "%sh\nhdfs dfs -ls -h hdfs:///user/hive/wdi/wdi_csv_text\nhdfs dfs -du -s -h hdfs:///user/hive/wdi/wdi_csv_text"
    },
    {
      "cell_type": "code",
      "execution_count": 14,
      "metadata": {
        "autoscroll": "auto"
      },
      "outputs": [],
      "source": "%hive\nSELECT count(countryName) FROM wdi_csv_text"
    },
    {
      "cell_type": "code",
      "execution_count": 15,
      "metadata": {
        "autoscroll": "auto"
      },
      "outputs": [],
      "source": "%hive\nSELECT count(countryName) FROM wdi_csv_text"
    },
    {
      "cell_type": "code",
      "execution_count": 16,
      "metadata": {
        "autoscroll": "auto"
      },
      "outputs": [],
      "source": "%sh\ncd ~\nhdfs dfs -get hdfs:///user/hive/wdi/wdi_csv_text .\ncd wdi_csv_text\n#calculate current directory size\ndu -ch .\n#1.8G total\n\n#clear fs cache\necho 3 | sudo tee /proc/sys/vm/drop_caches\n#bash row count\ndate +%s \u0026\u0026 cat * | wc \u0026\u0026 date +%s"
    },
    {
      "cell_type": "markdown",
      "metadata": {},
      "source": " \n# PART 2\n- find the bug that the `indicatorCode` col does not display properly\n- the bud happens beacuse of the parsing issue, to solve it, we chose to use a different parsing way.\n- drop table if exists\n- create a new table called `wdi_csv_text` using `OpenCSVSerde`\n- create `wdi_opencsv_gs` into `wdi_opencsv_text`\n- verify the data\n"
    },
    {
      "cell_type": "code",
      "execution_count": 18,
      "metadata": {
        "autoscroll": "auto"
      },
      "outputs": [],
      "source": "%hive\nSELECT distinct(indicatorcode)\nFROM wdi_csv_text\nOEDER BY indicatorcode\nLIMIT 10"
    },
    {
      "cell_type": "code",
      "execution_count": 19,
      "metadata": {
        "autoscroll": "auto"
      },
      "outputs": [],
      "source": "%hive\nSELECT distinct(indicatorcode)\nFROM wdi_csv_text\nORDER BY indicatorcode\nLIMIT 10"
    },
    {
      "cell_type": "code",
      "execution_count": 20,
      "metadata": {
        "autoscroll": "auto"
      },
      "outputs": [],
      "source": "%hive\nDROP TABLE IF EXISTS wdi_opencsv_gs"
    },
    {
      "cell_type": "code",
      "execution_count": 21,
      "metadata": {
        "autoscroll": "auto"
      },
      "outputs": [],
      "source": "%hive\nCREATE EXTERNAL TABLE wdi_opencsv_gs\n(year INTEGER, countryName STRING, countryCode STRING, indicatorName STRING, indicatorCode STRING, indicatorValue FLOAT)\nROW FORMAT SERDE \u0027org.apache.hadoop.hive.serde2.OpenCSVSerde\u0027\nLOCATION \u0027gs://jarvis_data_eng_abhinay/datasets/wdi_2016\u0027\nTBLPROPERTIES (\"skip.header.line.count\"\u003d\"1\")"
    },
    {
      "cell_type": "code",
      "execution_count": 22,
      "metadata": {
        "autoscroll": "auto"
      },
      "outputs": [],
      "source": "%hive\nDROP TABLE IF EXISTS wdi_opencsv_text"
    },
    {
      "cell_type": "code",
      "execution_count": 23,
      "metadata": {
        "autoscroll": "auto"
      },
      "outputs": [],
      "source": "%hive\nCREATE EXTERNAL TABLE wdi_opencsv_text\n(year INTEGER, countryName STRING, countryCode STRING, indicatorName STRING, indicatorCode STRING, indicatorValue FLOAT)\nROW FORMAT SERDE \u0027org.apache.hadoop.hive.serde2.OpenCSVSerde\u0027\nLOCATION \u0027hdfs:///user/hive/wdi/wdi_opencsv_text\u0027"
    },
    {
      "cell_type": "code",
      "execution_count": 24,
      "metadata": {
        "autoscroll": "auto"
      },
      "outputs": [],
      "source": "%hive\nINSERT OVERWRITE TABLE wdi_opencsv_text\nSELECT * FROM wdi_opencsv_gs"
    },
    {
      "cell_type": "code",
      "execution_count": 25,
      "metadata": {
        "autoscroll": "auto"
      },
      "outputs": [],
      "source": "%hive\nSELECT distinct(indicatorcode)\nFROM wdi_opencsv_text\nORDER BY indicatorcode\nLIMIT 10"
    },
    {
      "cell_type": "markdown",
      "metadata": {},
      "source": "- now we run `SELECT count(countryName)` query to wdi_openscv_text and wdi_csv_text\n- we find that wdi_opencsv_text is pretty slow\n- it is because that SerDe do extra work to parse csv, and it is much slower that conventional delimiter defination"
    },
    {
      "cell_type": "code",
      "execution_count": 27,
      "metadata": {
        "autoscroll": "auto"
      },
      "outputs": [],
      "source": "%hive\nSELECT count(countryName) FROM wdi_opencsv_text"
    },
    {
      "cell_type": "code",
      "execution_count": 28,
      "metadata": {
        "autoscroll": "auto"
      },
      "outputs": [],
      "source": "%hive\nSELECT count(countryName) FROM wdi_csv_text"
    },
    {
      "cell_type": "markdown",
      "metadata": {},
      "source": "- we find that `indicatorCode` becomes string in wdi_opencsv_text\n- it is because that SerDe treats all columns to be of type String. Even if you create a table with non-string column tpes using this Serde, the DESCRIBE TABLE output would show column type. The type information is receive from the SerDe\n- to solve such problem, we can use View table"
    },
    {
      "cell_type": "code",
      "execution_count": 30,
      "metadata": {
        "autoscroll": "auto"
      },
      "outputs": [],
      "source": "%hive\nDROP VIEW IF EXISTS wdi_opencsv_text_view"
    },
    {
      "cell_type": "code",
      "execution_count": 31,
      "metadata": {
        "autoscroll": "auto"
      },
      "outputs": [],
      "source": "%hive\nCREATE VIEW IF NOT EXISTS wdi_opencsv_text_view\nas\nSELECT year, countryName, countryCode, indicatorName, indicatorCode, Cast(indicatorValue AS FLOAT) AS inidcatorValue\nFROM wdi_csv_text"
    },
    {
      "cell_type": "markdown",
      "metadata": {},
      "source": "# PART 3\nwrite queries to solve business problem\n\nWrite a HiveQL to find 2015 `GDP growth (annual %)` for Canada\n\nOutput columns: `GDP_growth_value, year, countryName`"
    },
    {
      "cell_type": "code",
      "execution_count": 33,
      "metadata": {
        "autoscroll": "auto"
      },
      "outputs": [],
      "source": "%hive\nSELECT inidcatorValue as GDP_growth_value, year, countryName\nFROM wdi_opencsv_text_view\nWHERE indicatorname like \"GDP growth (annual %)\" and year\u003d2015 and countryName\u003d\"Canada\""
    },
    {
      "cell_type": "markdown",
      "metadata": {},
      "source": "- the query is slow. it costs 26 seconds to fetch the result, the main reason is thta data is not pre-sorted and tere is no duplex to help us quickly fetch result by keywork\n- to solve it, we use partition"
    },
    {
      "cell_type": "code",
      "execution_count": 35,
      "metadata": {
        "autoscroll": "auto"
      },
      "outputs": [],
      "source": "%hive\nDROP TABLE IF EXISTS wdi_opencsv_text_partitions"
    },
    {
      "cell_type": "code",
      "execution_count": 36,
      "metadata": {
        "autoscroll": "auto"
      },
      "outputs": [],
      "source": "%hive\nCREATE EXTERNAL TABLE wdi_opencsv_text_partitions\n(year INTEGER, countryName STRING, countryCode STRING, indicatorName STRING, indicatorCode STRING, indicatorValue FLOAT)\nPARTITIONED by(y STRING)\nROW FORMAT SERDE \u0027org.apache.hadoop.hive.serde2.OpenCSVSerde\u0027\nLOCATION \u0027hdfs:///user/hive/wdi/wdi_opencsv_text\u0027"
    },
    {
      "cell_type": "code",
      "execution_count": 37,
      "metadata": {
        "autoscroll": "auto"
      },
      "outputs": [],
      "source": "%hive\nSET hive.exec.dynamic.partition.mode\u003dnonstrict"
    },
    {
      "cell_type": "code",
      "execution_count": 38,
      "metadata": {
        "autoscroll": "auto"
      },
      "outputs": [],
      "source": "%hive\nSET hive.exec.dynamic.partition\u003dtrue"
    },
    {
      "cell_type": "code",
      "execution_count": 39,
      "metadata": {
        "autoscroll": "auto"
      },
      "outputs": [],
      "source": "%hive\nINSERT OVERWRITE TABLE wdi_opencsv_text_partitions PARTITION(y)\nSELECT *, year as y FROM wdi_opencsv_text"
    },
    {
      "cell_type": "markdown",
      "metadata": {},
      "source": "- reduce the file size\n- we use PARQUET to store data"
    },
    {
      "cell_type": "code",
      "execution_count": 41,
      "metadata": {
        "autoscroll": "auto"
      },
      "outputs": [],
      "source": "%hive\nDROP TABLE IF EXISTS wdi_csv_parquet"
    },
    {
      "cell_type": "code",
      "execution_count": 42,
      "metadata": {
        "autoscroll": "auto"
      },
      "outputs": [],
      "source": "%hive\nCREATE EXTERNAL TABLE wdi_csv_parquet\n(year INTEGER, countryName STRING, countryCode STRING, indicatorName STRING, indicatorCode STRING, indicatorValue STRING)\nSTORED AS PARQUET\nLOCATION \u0027hdfs:///user/hive/wdi/wdi_csv_parquet\u0027"
    },
    {
      "cell_type": "markdown",
      "metadata": {},
      "source": "check all data is inserted\n"
    },
    {
      "cell_type": "code",
      "execution_count": 44,
      "metadata": {
        "autoscroll": "auto"
      },
      "outputs": [],
      "source": "%hive\nINSERT OVERWRITE TABLE wdi_csv_parquet\nSELECT * FROM wdi_opencsv_gs"
    },
    {
      "cell_type": "code",
      "execution_count": 45,
      "metadata": {
        "autoscroll": "auto"
      },
      "outputs": [],
      "source": "%hive\nSELECT count(countryName) from wdi_csv_parquet"
    },
    {
      "cell_type": "code",
      "execution_count": 46,
      "metadata": {
        "autoscroll": "auto"
      },
      "outputs": [],
      "source": "%hive\nSELECT count(countryName) FROM wdi_csv_text"
    },
    {
      "cell_type": "code",
      "execution_count": 47,
      "metadata": {
        "autoscroll": "auto"
      },
      "outputs": [],
      "source": "%sh\nhdfs dfs -du -s -h /user/hive/wdi/wdi_csv_parquet"
    },
    {
      "cell_type": "code",
      "execution_count": 48,
      "metadata": {
        "autoscroll": "auto"
      },
      "outputs": [],
      "source": "%sh\nhdfs dfs -du -s -h /user/hive/wdi/wdi_csv_text"
    },
    {
      "cell_type": "markdown",
      "metadata": {},
      "source": "You can see that using parquet can significantly reduce the file size"
    },
    {
      "cell_type": "markdown",
      "metadata": {},
      "source": "Execute 2015 GDP growth HQL against wdi_csv_parquet and wdi_opencsv_text tables, and then compare performance even though, the file size is reduced, the running time in not increased"
    },
    {
      "cell_type": "code",
      "execution_count": 51,
      "metadata": {
        "autoscroll": "auto"
      },
      "outputs": [],
      "source": "%hive\nSELECT indicatorValue AS GDP_growth_value, year, countryName\nFROM wdi_csv_parquet\nWHERE indicatorname like \"GDP growth (annual %)\" and year \u003d 2015 and countryName\u003d\"Canada\""
    },
    {
      "cell_type": "code",
      "execution_count": 52,
      "metadata": {
        "autoscroll": "auto"
      },
      "outputs": [],
      "source": "%hive\nSELECT indicatorValue AS GDP_growth_value, year, countryName\nFROM wdi_csv_text\nWHERE indicatorname like \"GDP growth (annual %)\" and year \u003d 2015 and countryName\u003d\"Canada\""
    },
    {
      "cell_type": "markdown",
      "metadata": {},
      "source": "- find the highest GDP growth (NY.GDP.MKTP.KD.ZG) year for each country\n- Use spark interpreter to run same query \n- Spark.sql run query faster than that in hive tez"
    },
    {
      "cell_type": "code",
      "execution_count": 54,
      "metadata": {
        "autoscroll": "auto"
      },
      "outputs": [],
      "source": "%hive\nSELECT v.countryName, v.inidcatorValue, min(v.year)\nFROM (SELECT countryName, max(inidcatorValue) as indicatorValue\nFROM wdi_opencsv_text_view\nWHERE indicatorname like \"GDP growth (annual %)\"\nGROUP BY countryName\nORDER BY countryName) AS t, wdi_opencsv_text_view v\nWHERE v.countryName\u003dt.countryName AND v.inidcatorValue\u003dt.indicatorValue\nGROUP BY v.countryName, v.inidcatorValue\nORDER BY v.countryName"
    },
    {
      "cell_type": "code",
      "execution_count": 55,
      "metadata": {
        "autoscroll": "auto"
      },
      "outputs": [],
      "source": "%spark.sql\nSELECT v.countryName, v.inidcatorValue, min(v.year)\nFROM (SELECT countryName, max(inidcatorValue) as indicatorValue\nFROM wdi_opencsv_text_view\nWHERE indicatorname like \"GDP growth (annual %)\"\nGROUP BY countryName\nORDER BY countryName) AS t, wdi_opencsv_text_view v\nWHERE v.countryName\u003dt.countryName AND v.inidcatorValue\u003dt.indicatorValue\nGROUP BY v.countryName, v.inidcatorValue\nORDER BY v.countryName\n"
    },
    {
      "cell_type": "markdown",
      "metadata": {},
      "source": "write a query that returns GDP growth of all countries sorted by countryName and year\n"
    },
    {
      "cell_type": "code",
      "execution_count": 57,
      "metadata": {
        "autoscroll": "auto"
      },
      "outputs": [],
      "source": "%hive\nSELECT countryName, year, inidcatorValue\nFROM wdi_opencsv_text_view\nwhere indicatorName like \"GDP growth (annual %)\"\nORDER BY countryName ASC, year ASC"
    },
    {
      "cell_type": "raw",
      "metadata": {
        "format": "text/plain"
      },
      "source": "%hive\n"
    }
  ]
}